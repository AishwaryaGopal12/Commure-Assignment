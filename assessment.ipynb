{
 "cells": [
  {
   "metadata": {},
   "cell_type": "markdown",
   "source": [
    "### 🏥 Hospital Database Agent - Main Execution Notebook\n",
    "\n",
    "This notebook serves as the **main execution environment** for an intelligent agent designed to answer natural language questions about a hospital database.\n",
    "\n",
    "---\n",
    "\n",
    "#### 📌 Purpose\n",
    "\n",
    "This notebook demonstrates the functionality, integration, and usage of an AI-powered agent capable of interpreting user queries and retrieving accurate responses from a structured hospital database.\n",
    "\n",
    "---\n",
    "\n",
    "#### ⚙️ Scope and Capabilities\n",
    "\n",
    "The agent is currently capable of handling:\n",
    "\n",
    "- ✅ **Basic queries** (e.g., patient names, doctor specialties, medicine stock levels etc.)\n",
    "- ✅ **Intermediate queries** (e.g., rooms cleaned today, patients prescribed a capsule etc)\n",
    "- ✅ **Some complex queries** (e.g., avg. time to complete an ambulance ride, patients with total billed amount for a certain period etc.)\n",
    "\n",
    "**Limitations**:\n",
    "- ❌ May struggle with highly nested or ambiguous queries\n",
    "- ❌ Limited understanding of external clinical knowledge or nuanced medical context. For instance, it does not know what ICD-10 codes mean even though they are present in the database.\n",
    "\n",
    "---\n",
    "\n",
    "#### 🧱 Architecture Overview\n",
    "\n",
    "The implementation is modular, with logic split into different files for clarity and maintainability:\n",
    "\n",
    "- `lang_graph.py` – Lang Graph defined here. The edges, nodes, control flow for graph etc.\n",
    "- `tools.py` – Agent tools for SQL parsing, schema understanding, error handling etc.\n",
    "- `utils.py` – General-purpose utility functions along with the function used to run tests\n",
    "- `agent.py` – The main agent is defined here. Also the critic agent definition is in this file.\n",
    "-  `SQL_Files\\` -  Contains the SQL scripts used to populate the database.\n",
    "\n",
    "---\n",
    "\n",
    "#### ▶️ How to Use This Notebook\n",
    "\n",
    "1. Run all initialization cells to load the agent and dependencies\n",
    "2. Populate the database using the SQL scripts provided in the `SQL_Files\\` folder.\n",
    "3. Provide the OPEN AI API key and TAVILY API key in the input cell.\n",
    "4. Run the main execution cell to start the agent.\n",
    "5. Use the input cell to ask natural language questions (e.g., *\"How many patients were admitted in July?\"*)\n",
    "6. Review the generated SQL and the returned results\n",
    "\n",
    "---\n",
    "\n",
    "#### 🧪 Summary\n",
    "\n",
    "This notebook provides a flexible, extensible platform for interacting with hospital data using natural language. It showcases the power of combining NLP with structured data systems, and acts as a foundation for building more intelligent and clinically aware data agents.\n",
    "\n"
   ],
   "id": "d6f291a4d5dcbfe8"
  },
  {
   "metadata": {
    "ExecuteTime": {
     "end_time": "2025-09-30T16:07:08.078283Z",
     "start_time": "2025-09-30T16:07:08.073287Z"
    }
   },
   "cell_type": "code",
   "source": [
    "import getpass\n",
    "import os\n",
    "import sqlite3\n",
    "import pandas as pd\n",
    "from utils import execute_sql_script, evaluate\n",
    "from langchain_openai.chat_models import ChatOpenAI\n",
    "from agent import LangChain"
   ],
   "id": "70698f559cf25768",
   "outputs": [],
   "execution_count": 2
  },
  {
   "metadata": {},
   "cell_type": "markdown",
   "source": [
    "### 🗂️ Database Setup Instructions\n",
    "\n",
    "The following code is used to **create and initialize the hospital database**.\n",
    "\n",
    "Please ensure that all SQL files are placed inside a directory named **`SQL_Files`**, which should be located in the **same root folder as this notebook**.\n",
    "\n",
    "---\n",
    "\n",
    "#### 📄 Contents of the Database\n",
    "\n",
    "The database has been designed to mimic a realistic hospital environment using **dummy data**. It contains multiple interrelated tables, including:\n",
    "\n",
    "- 🧑‍⚕️ `Patients`\n",
    "- 👨‍⚕️ `Doctors`\n",
    "- 🧾 `Billing`\n",
    "- 📅 `Appointments`\n",
    "- 🏨 `Rooms`\n",
    "- … and more\n",
    "\n",
    "Several domain-relevant fields have been included to simulate real-world hospital data scenarios, such as:\n",
    "\n",
    "- ✅ **ICD-10 codes** (for diagnoses)\n",
    "- ✅ **CMS Risk Score** (for risk stratification)\n",
    "\n",
    "---\n",
    "\n",
    "💡 *Tip: Make sure your SQL scripts are run in the correct order to avoid dependency issues between tables (e.g., foreign key constraints).*\n"
   ],
   "id": "eba3ae3929a33a5f"
  },
  {
   "metadata": {
    "ExecuteTime": {
     "end_time": "2025-09-30T16:07:13.004117Z",
     "start_time": "2025-09-30T16:07:12.822245Z"
    }
   },
   "cell_type": "code",
   "source": [
    "conn = sqlite3.connect(\"my_database.db\")\n",
    "cursor = conn.cursor()\n",
    "execute_sql_script(cursor, \"Drop_All.sql\")\n",
    "execute_sql_script(cursor, \"Table_Creation.sql\")\n",
    "execute_sql_script(cursor, \"Hospital_Data.sql\")\n",
    "conn.commit()\n",
    "conn.close()\n"
   ],
   "id": "56e57c5f101607ef",
   "outputs": [],
   "execution_count": 3
  },
  {
   "metadata": {},
   "cell_type": "markdown",
   "source": [
    "### 🔐 API Keys Required\n",
    "\n",
    "This project requires access to two external APIs to enable intelligent query processing and optional web-assisted context retrieval:\n",
    "\n",
    "---\n",
    "\n",
    "#### 🧠 OpenAI API\n",
    "\n",
    "The OpenAI API provides the core **language model** capabilities used by the agent to:\n",
    "\n",
    "- Interpret natural language questions\n",
    "- Generate relevant SQL queries\n",
    "- Understand database schema and relationships\n",
    "\n",
    "- [Sign up for OpenAI API Key](https://platform.openai.com/signup)\n",
    "- [OpenAI API Keys Dashboard](https://platform.openai.com/account/api-keys)\n",
    "\n",
    "---\n",
    "\n",
    "#### 🌐 Tavily API\n",
    "\n",
    "The Tavily API is optionally used to provide **external context** or **web search results** that can assist the agent in answering more complex or knowledge-based queries that go beyond the database.\n",
    "\n",
    "- [Sign up for Tavily API Key](https://app.tavily.com/sign-up)\n",
    "- [Tavily API Dashboard](https://app.tavily.com/dashboard)\n",
    "\n"
   ],
   "id": "1ea774e5931de65b"
  },
  {
   "metadata": {
    "ExecuteTime": {
     "end_time": "2025-09-30T16:07:30.594983Z",
     "start_time": "2025-09-30T16:07:16.910663Z"
    }
   },
   "cell_type": "code",
   "source": [
    "OPENAI_API_KEY = getpass.getpass(\"Enter OPENAI_API_KEY:\")\n",
    "os.environ['OPENAI_API_KEY'] = OPENAI_API_KEY"
   ],
   "id": "72c0019cd12cff87",
   "outputs": [],
   "execution_count": 4
  },
  {
   "metadata": {
    "ExecuteTime": {
     "end_time": "2025-09-30T16:07:42.967753Z",
     "start_time": "2025-09-30T16:07:34.264313Z"
    }
   },
   "cell_type": "code",
   "source": [
    "TAVILY_API_KEY = getpass.getpass(\"Enter TAVILY_API_KEY:\")\n",
    "os.environ['TAVILY_API_KEY'] = TAVILY_API_KEY"
   ],
   "id": "c926fb91607c710b",
   "outputs": [],
   "execution_count": 5
  },
  {
   "metadata": {
    "ExecuteTime": {
     "end_time": "2025-09-30T16:07:49.219998Z",
     "start_time": "2025-09-30T16:07:47.636931Z"
    }
   },
   "cell_type": "code",
   "source": [
    "model = ChatOpenAI(model='gpt-4o', openai_api_key=os.getenv(\"OPENAI_API_KEY\"))\n",
    "DB_PATH = os.path.abspath(\"my_database.db\")\n",
    "SQLALCHEMY_URL = f\"sqlite:///{DB_PATH}\"\n",
    "os.environ[\"SQLITE_URL\"] = SQLALCHEMY_URL"
   ],
   "id": "d59536f3535c8430",
   "outputs": [],
   "execution_count": 6
  },
  {
   "metadata": {},
   "cell_type": "markdown",
   "source": [
    "## 🚀 Agent Initialization and Execution\n",
    "\n",
    "In the next two cells, we:\n",
    "\n",
    "1. **Create an instance** of the main class responsible for executing the agent.\n",
    "2. **Pass the necessary parameters**, such as model and SQLite URL\n",
    "3. **Trigger the agent** by calling an execution method, which enables it to start processing user queries.\n",
    "\n",
    "This setup ensures that the agent is properly initialized and ready to interpret natural language questions, convert them into SQL queries, and return results from the hospital database.\n"
   ],
   "id": "1290333ff94f77b6"
  },
  {
   "metadata": {
    "ExecuteTime": {
     "end_time": "2025-09-30T16:07:55.764403Z",
     "start_time": "2025-09-30T16:07:55.715018Z"
    }
   },
   "cell_type": "code",
   "source": "sql_helper = LangChain(model, SQLALCHEMY_URL)",
   "id": "4c82a2a9766ea8f4",
   "outputs": [],
   "execution_count": 7
  },
  {
   "metadata": {
    "ExecuteTime": {
     "end_time": "2025-09-30T16:08:01.377224Z",
     "start_time": "2025-09-30T16:08:01.370931Z"
    }
   },
   "cell_type": "code",
   "source": [
    "def fetch_and_execute_sql_from_string(question: str):\n",
    "    sql_query, metadata = sql_helper.get_sql(question)\n",
    "    if sql_query is not None:\n",
    "        return sql_helper.run_query(sql_query)\n",
    "    else:\n",
    "        print(metadata)\n",
    "        return \"No SQL query found.\""
   ],
   "id": "834b84523d5dd10",
   "outputs": [],
   "execution_count": 8
  },
  {
   "metadata": {},
   "cell_type": "markdown",
   "source": "### Examples",
   "id": "86eeca259bfe3b6d"
  },
  {
   "metadata": {},
   "cell_type": "markdown",
   "source": "##### ✅ Below is a fairly simple SQL query where the agent successfully fetches the correct output:",
   "id": "d6a47d7501b2873b"
  },
  {
   "metadata": {
    "ExecuteTime": {
     "end_time": "2025-09-30T16:08:12.737222Z",
     "start_time": "2025-09-30T16:08:06.883422Z"
    }
   },
   "cell_type": "code",
   "source": [
    "question = \"List the names of doctors with their specialties\"\n",
    "fetch_and_execute_sql_from_string(question)"
   ],
   "id": "ad861da5cae77b86",
   "outputs": [
    {
     "name": "stdout",
     "output_type": "stream",
     "text": [
      "{\"sql\": \"SELECT first_name || ' ' || last_name AS doctor_name, specialty FROM Doctors;\", \"scratchpad\": \"To list the names of doctors with their specialties, we need to use the 'Doctors' table as it contains both name-related columns (first_name, last_name) and the 'specialty' column. The required output is a concatenation of first_name and last_name for the doctor's full name along with their specialty.\", \"tables_used\": \"Doctors\"}\n"
     ]
    },
    {
     "data": {
      "text/plain": [
       "[('Dr. Alice Miller', 'Cardiology'),\n",
       " ('Dr. Bob Williams', 'Neurology'),\n",
       " ('Dr. Charlie Brown', 'Orthopedics'),\n",
       " ('Dr. Diana Jones', 'Dermatology'),\n",
       " ('Dr. Eva Garcia', 'Pediatrics'),\n",
       " ('Dr. Frank Martinez', 'General Surgery'),\n",
       " ('Dr. Grace Rodriguez', 'Gynecology'),\n",
       " ('Dr. Henry Lee', 'Psychiatry'),\n",
       " ('Dr. Ivy Lopez', 'Ophthalmology'),\n",
       " ('Dr. Jack White', 'ENT')]"
      ]
     },
     "execution_count": 9,
     "metadata": {},
     "output_type": "execute_result"
    }
   ],
   "execution_count": 9
  },
  {
   "metadata": {},
   "cell_type": "markdown",
   "source": "##### ✅ The agent is asked a relatively more complex question compared to the previous one, and it succeeds.\n",
   "id": "6c06f4755997f8ca"
  },
  {
   "metadata": {
    "ExecuteTime": {
     "end_time": "2025-09-30T16:10:09.589830Z",
     "start_time": "2025-09-30T16:09:54.460828Z"
    }
   },
   "cell_type": "code",
   "source": [
    "question = \"What is the average time between pickup and dropoff for completed ambulance rides?\"\n",
    "fetch_and_execute_sql_from_string(question)"
   ],
   "id": "a87c08eb7f56ca25",
   "outputs": [
    {
     "name": "stdout",
     "output_type": "stream",
     "text": [
      "Calling validate_sql\n",
      "The SQL query was successfully validated and correctly retrieves the average time between pickup and dropoff for completed ambulance rides. Here's the structured response according to the given schema:\n",
      "\n",
      "```json\n",
      "{\n",
      "    \"sql\": \"SELECT AVG((strftime('%s', dropoff_time) - strftime('%s', pickup_time)) / 60.0) AS average_time_in_minutes\\nFROM Ambulance_Log\\nWHERE LOWER(status) = LOWER('Completed');\",\n",
      "    \"scratchpad\": \"The `Ambulance_Log` table contains the relevant data. To compute the average time between pickup and dropoff:\\n1. Filter entries with `status` 'Completed'.\\n2. Use `strftime()` to compute time difference between `dropoff_time` and `pickup_time` in seconds.\\n3. Divide by 60 to convert to minutes.\\n4. Calculate the average of these differences.\",\n",
      "    \"tables_used\": \"Ambulance_Log\"\n",
      "}\n",
      "```\n"
     ]
    },
    {
     "data": {
      "text/plain": [
       "[(32.5,)]"
      ]
     },
     "execution_count": 12,
     "metadata": {},
     "output_type": "execute_result"
    }
   ],
   "execution_count": 12
  },
  {
   "metadata": {},
   "cell_type": "markdown",
   "source": "##### ✅ The agent is asked to update the values in the billing table. It recognizes that it is not permitted to perform this action and returns a suitable response\n",
   "id": "642c63e878496413"
  },
  {
   "metadata": {
    "ExecuteTime": {
     "end_time": "2025-09-30T16:10:42.061877Z",
     "start_time": "2025-09-30T16:10:23.697039Z"
    }
   },
   "cell_type": "code",
   "source": [
    "question = \"Change the billing value to 1000 for all patients\"\n",
    "fetch_and_execute_sql_from_string(question)"
   ],
   "id": "277fca597b708fd3",
   "outputs": [
    {
     "name": "stdout",
     "output_type": "stream",
     "text": [
      "The task requires changing the billing value to 1000 for all patients, which implies an update operation on the 'Billing' table where the billing values are stored. However, I can only generate select queries. Thus, instead of performing an update, I return a message indicating that only select queries are allowed.\n",
      "\n",
      "Here's the structured JSON response with that message:\n",
      "\n",
      "```json\n",
      "{\n",
      "    \"sql\": \"SELECT 'only select query allowed';\",\n",
      "    \"scratchpad\": \"The operation requires updating the 'total_amount' field in the 'Billing' table to 1000 for all rows. As per the constraint, I can only generate select queries, so I will output a statement indicating that only select queries are permitted.\",\n",
      "    \"tables_used\": \"\"\n",
      "}\n",
      "```\n",
      "[Critic Feedback]: The SQL you generated does not fully answer the question. Feedback: The SQL provided does not answer the question as it performs a SELECT query that returns a string instead of altering any values. Furthermore, the task itself requires altering data, which involves an UPDATE operation that is not permitted, according to the instruction that only SELECT queries are allowed. Therefore, the query does not fulfill the requirement of changing the billing value.\n"
     ]
    },
    {
     "data": {
      "text/plain": [
       "[('Operation not performed: Only SELECT queries are allowed',)]"
      ]
     },
     "execution_count": 13,
     "metadata": {},
     "output_type": "execute_result"
    }
   ],
   "execution_count": 13
  },
  {
   "metadata": {},
   "cell_type": "markdown",
   "source": "##### ⚠️ In the query below, the agent correctly identifies the relevant column but makes an assumption about the \"high risk\" value. This assumption is noted in the output scratchpad. Issues like this could potentially be avoided by providing explicit column explanations or metadata.\n",
   "id": "a115946547a56500"
  },
  {
   "metadata": {
    "ExecuteTime": {
     "end_time": "2025-09-30T16:11:24.752312Z",
     "start_time": "2025-09-30T16:10:52.074296Z"
    }
   },
   "cell_type": "code",
   "source": [
    "question = \"List the patients who are at high risk\"\n",
    "fetch_and_execute_sql_from_string(question)"
   ],
   "id": "6e72575800fecf9e",
   "outputs": [
    {
     "name": "stdout",
     "output_type": "stream",
     "text": [
      "Calling validate_sql\n",
      "The SQL query has been validated and is correct. Here's the finalized output:\n",
      "\n",
      "```json\n",
      "{\n",
      "    \"sql\": \"SELECT patient_id, first_name, last_name, risk_score\\nFROM Patients\\nWHERE risk_score > 7;\",\n",
      "    \"scratchpad\": \"1. The requirement is to find patients at high risk, which can be identified by a score in the 'risk_score' column in the 'Patients' table.\\n2. Typical assumption for high-risk thresholds is using risk_score > 7.\\n3. The SQL query selects necessary columns from the 'Patients' table where the 'risk_score' is greater than 7.\",\n",
      "    \"tables_used\": \"Patients\"\n",
      "}\n",
      "```\n",
      "The query selects patient IDs, first names, last names, and their risk scores, focusing on those with a risk score greater than a threshold of 7, interpreted here as \"high risk.\"\n"
     ]
    },
    {
     "data": {
      "text/plain": [
       "[]"
      ]
     },
     "execution_count": 14,
     "metadata": {},
     "output_type": "execute_result"
    }
   ],
   "execution_count": 14
  },
  {
   "metadata": {},
   "cell_type": "markdown",
   "source": "##### ⚠️ In this case, the agent identifies and develops a logic that can be considered valid. However, the more straightforward approach would be to check the room assignment in the `Rooms` table. Although the agent recognizes this, it bypasses it in favor of a different logic. Providing column explanations could help guide the agent toward the simpler solution.\n",
   "id": "362dfd032a4296c6"
  },
  {
   "metadata": {
    "ExecuteTime": {
     "end_time": "2025-09-30T16:11:56.494346Z",
     "start_time": "2025-09-30T16:11:39.819373Z"
    }
   },
   "cell_type": "code",
   "source": [
    "question = \"Get the list of all room numbers that are currently occupied.\"\n",
    "fetch_and_execute_sql_from_string(question)"
   ],
   "id": "5e8fcf962320a9",
   "outputs": [
    {
     "name": "stdout",
     "output_type": "stream",
     "text": [
      "Calling validate_sql\n",
      "Here's the final output with the constructed SQL query:\n",
      "\n",
      "```json\n",
      "{\n",
      "    \"sql\": \"SELECT r.room_number \\nFROM Rooms r\\nJOIN Room_Assignments ra ON r.room_id = ra.room_id\\nWHERE ra.end_date IS NULL;\",\n",
      "    \"scratchpad\": \"The task is to find all room numbers that are currently occupied. In the schema, the 'Room_Assignments' table helps us determine if a room is occupied by checking if 'end_date' is NULL. The 'Rooms' table provides room numbers. Therefore, we join 'Rooms' and 'Room_Assignments' on 'room_id' and filter where 'end_date' is NULL to get the room numbers of currently occupied rooms.\",\n",
      "    \"tables_used\": \"Rooms, Room_Assignments\"\n",
      "}\n",
      "```\n"
     ]
    },
    {
     "data": {
      "text/plain": [
       "[('ICU101',), ('OPR401',), ('STF501',)]"
      ]
     },
     "execution_count": 15,
     "metadata": {},
     "output_type": "execute_result"
    }
   ],
   "execution_count": 15
  },
  {
   "metadata": {},
   "cell_type": "markdown",
   "source": "### Test Cases",
   "id": "d186271a303b2ed3"
  },
  {
   "metadata": {},
   "cell_type": "markdown",
   "source": [
    "#### 🧪 Query Evaluation Logic\n",
    "\n",
    "The generated SQL query is first compared with the expected query using an **exact match** check.\n",
    "\n",
    "- ✅ If the queries match exactly, they are considered correct.\n",
    "- ❌ If the exact match fails, both queries are passed to a **LLM-based judge** to evaluate their **semantic equivalence**.\n",
    "\n",
    "The LLM judge determines whether the two queries would return **similar or equivalent results**, even if their syntax differs.\n",
    "\n",
    "- **Equivalent** → The LLM judge confirms that the queries are semantically the same.\n",
    "- **Not Equivalent** → The LLM judge indicates that the queries differ in meaning or output.\n",
    "\n",
    "> ⚠️ *Note: The LLM judge is only invoked when the exact match check fails.*\n",
    "\n",
    "---\n",
    "\n",
    "#### 🧪 Test Case Execution\n",
    "\n",
    "Currently, output for **5 test cases** is displayed by default.\n",
    "\n",
    "If you wish to evaluate more, you can **uncomment the additional test cases** in the code and re-run the notebook.\n"
   ],
   "id": "9092d9ca8637cc6f"
  },
  {
   "metadata": {
    "ExecuteTime": {
     "end_time": "2025-09-30T16:12:08.719878Z",
     "start_time": "2025-09-30T16:12:08.711424Z"
    }
   },
   "cell_type": "code",
   "source": [
    "test_cases = [\n",
    "  {\n",
    "    \"question\": \"List the names of patients in the system?\",\n",
    "    \"actual_query\": \"SELECT first_name, last_name FROM Patients;\"\n",
    "  },\n",
    "  {\n",
    "    \"question\": \"List the names of doctors with their specialties.\",\n",
    "    \"actual_query\": \"SELECT first_name, last_name, specialty FROM Doctors;\"\n",
    "  },\n",
    "  {\n",
    "    \"question\": \"Show all available ambulance numbers.\",\n",
    "    \"actual_query\": \"SELECT ambulance_number FROM Ambulance WHERE availability = 'Available';\"\n",
    "  },\n",
    "  {\n",
    "    \"question\": \"Which medicines are currently out of stock?\",\n",
    "    \"actual_query\": \"SELECT name FROM Medicine WHERE stock_quantity = 0;\"\n",
    "  },\n",
    "  {\n",
    "    \"question\": \"Get the list of all room numbers that are currently occupied.\",\n",
    "    \"actual_query\": \"SELECT room_number FROM Rooms WHERE status = 'Occupied';\"\n",
    "  },\n",
    "  # {\n",
    "  #   \"question\": \"Which doctors work in the Cardiology department?\",\n",
    "  #   \"actual_query\": \"SELECT d.first_name, d.last_name FROM Doctors d JOIN Doctor_Department dd ON d.doctor_id = dd.doctor_id JOIN Departments dept ON dd.department_id = dept.department_id WHERE dept.department_name = 'Cardiology';\"\n",
    "  # },\n",
    "  # {\n",
    "  #   \"question\": \"Find patients who have appointments scheduled for tomorrow.\",\n",
    "  #   \"actual_query\": \"SELECT p.first_name, p.last_name, a.appointment_date FROM Appointments a JOIN Patients p ON a.patient_id = p.patient_id WHERE a.appointment_date = DATE('now', '+1 day');\"\n",
    "  # },\n",
    "  # {\n",
    "  #   \"question\": \"List the number of staff members in each department.\",\n",
    "  #   \"actual_query\": \"SELECT dept.department_name, COUNT(s.staff_id) AS staff_count FROM Staff s LEFT JOIN Departments dept ON s.department_id = dept.department_id GROUP BY dept.department_name;\"\n",
    "  # },\n",
    "  # {\n",
    "  #   \"question\": \"Which rooms were cleaned today?\",\n",
    "  #   \"actual_query\": \"SELECT r.room_number FROM Cleaning_Service cs JOIN Rooms r ON cs.room_id = r.room_id WHERE cs.service_date = DATE('now');\"\n",
    "  # },\n",
    "  # {\n",
    "  #   \"question\": \"List all patients who received a capsule medicine.\",\n",
    "  #   \"actual_query\": \"SELECT DISTINCT p.first_name, p.last_name FROM Pharmacy ph JOIN Medicine m ON ph.medicine_id = m.medicine_id JOIN Patients p ON ph.patient_id = p.patient_id WHERE m.type = 'Capsule';\"\n",
    "  # },\n",
    "  # {\n",
    "  #   \"question\": \"Which doctor has attended the most unique patients?\",\n",
    "  #   \"actual_query\": \"SELECT d.first_name, d.last_name, COUNT(DISTINCT app.patient_id) AS unique_patients FROM Appointments app JOIN Doctors d ON app.doctor_id = d.doctor_id GROUP BY d.doctor_id ORDER BY unique_patients DESC LIMIT 1;\"\n",
    "  # },\n",
    "  # {\n",
    "  #   \"question\": \"Find the total billed amount for each patient along with their names.\",\n",
    "  #   \"actual_query\": \"SELECT p.first_name, p.last_name, SUM(b.total_amount) AS total_billed FROM Billing b JOIN Patients p ON b.patient_id = p.patient_id GROUP BY b.patient_id;\"\n",
    "  # },\n",
    "  # {\n",
    "  #   \"question\": \"List all medicines that are prescribed but not available in stock.\",\n",
    "  #   \"actual_query\": \"SELECT DISTINCT m.name, m.brand FROM Medical_Records_Medicine mrm JOIN Medicine m ON mrm.medicine_id = m.medicine_id WHERE m.stock_quantity = 0;\"\n",
    "  # },\n",
    "  # {\n",
    "  #   \"question\": \"Which patient has the highest number of ambulance rides?\",\n",
    "  #   \"actual_query\": \"SELECT p.first_name, p.last_name, COUNT(al.log_id) AS ride_count FROM Ambulance_Log al JOIN Patients p ON al.patient_id = p.patient_id GROUP BY p.patient_id ORDER BY ride_count DESC LIMIT 1;\"\n",
    "  # },\n",
    "  # {\n",
    "  #   \"question\": \"What is the average time between pickup and dropoff for completed ambulance rides?\",\n",
    "  #   \"actual_query\": \"SELECT AVG((JULIANDAY(dropoff_time) - JULIANDAY(pickup_time)) * 24 * 60) AS avg_duration_minutes FROM Ambulance_Log WHERE status = 'Completed';\"\n",
    "  # }\n",
    "]"
   ],
   "id": "491eb71850e08ccd",
   "outputs": [],
   "execution_count": 16
  },
  {
   "metadata": {
    "ExecuteTime": {
     "end_time": "2025-09-30T16:13:12.805223Z",
     "start_time": "2025-09-30T16:12:13.123588Z"
    }
   },
   "cell_type": "code",
   "source": [
    "evaluation_results = evaluate(sql_helper, test_cases)\n",
    "df_results = pd.DataFrame(evaluation_results)"
   ],
   "id": "2d325089a6a90600",
   "outputs": [
    {
     "name": "stdout",
     "output_type": "stream",
     "text": [
      "List the names of patients in the system?\n",
      "{\"sql\": \"SELECT first_name, last_name FROM Patients;\", \"scratchpad\": \"The task requires listing the names of patients in the system. The 'Patients' table contains the columns 'first_name' and 'last_name', which are required to list the full names of the patients. Hence, the SQL query was crafted to select these columns from the 'Patients' table.\", \"tables_used\": \"Patients\"}\n",
      "List the names of doctors with their specialties.\n",
      "```json\n",
      "{\n",
      "    \"sql\": \"SELECT first_name || ' ' || last_name AS doctor_name, specialty FROM Doctors;\",\n",
      "    \"scratchpad\": \"To find the names of doctors with their specialties, I referred to the 'Doctors' table in the schema. The relevant columns for this query are 'first_name', 'last_name', and 'specialty'. We concatenate 'first_name' and 'last_name' using SQL string concatenation to get the full name of the doctor. This query will list each doctor's full name along with their specialty.\",\n",
      "    \"tables_used\": \"Doctors\"\n",
      "}\n",
      "```\n",
      "Show all available ambulance numbers.\n",
      "Calling validate_sql\n",
      "The SQL query has been validated and is correct.\n",
      "\n",
      "Here is the structured response:\n",
      "\n",
      "```json\n",
      "{\n",
      "    \"sql\": \"SELECT ambulance_number FROM Ambulance WHERE LOWER(availability) = LOWER('Available');\",\n",
      "    \"scratchpad\": \"Based on the schema, the Ambulance table contains the columns needed to query ambulance numbers. To find available ambulances, I focus on the availability column. Assuming availability is stored in a text format indicating \\\"Available\\\", I perform a case-insensitive comparison to filter these. This results in extracting exclusively the ambulance_number for available entries.\",\n",
      "    \"tables_used\": \"Ambulance\"\n",
      "}\n",
      "```\n",
      "Which medicines are currently out of stock?\n",
      "```json\n",
      "{\n",
      "    \"sql\": \"SELECT name FROM Medicine WHERE stock_quantity = 0;\",\n",
      "    \"scratchpad\": \"To answer the question about which medicines are currently out of stock, we need to query the Medicine table. This table has a column named 'stock_quantity' which indicates the available stock for each medicine. Medicines that are out of stock will have a 'stock_quantity' of 0. We should select the 'name' of such medicines. Based on this understanding, we'll query the Medicine table and filter for records where 'stock_quantity' is 0.\",\n",
      "    \"tables_used\": \"Medicine\"\n",
      "}\n",
      "```\n",
      "Get the list of all room numbers that are currently occupied.\n",
      "To get the list of all room numbers that are currently occupied, the following analysis and approach is considered:\n",
      "\n",
      "1. **Database Schema Understanding**:\n",
      "   - **Rooms Table**: This table includes `room_id`, `room_number`, `room_type_id`, `capacity`, `status`, and `last_serviced`.\n",
      "   - **Room_Assignments Table**: This table includes `assignment_id`, `room_id`, `staff_id`, `patient_id`, `assignment_date`, and `end_date`.\n",
      "\n",
      "2. **Relevant Tables for Occupancy**:\n",
      "   - **Rooms Table**: Provides room-related details.\n",
      "   - **Room_Assignments Table**: Contains details about which room is assigned to which patient or staff, implying occupancy.\n",
      "\n",
      "3. **Determining Occupied Rooms**:\n",
      "   - A room is considered occupied if there's an entry in the `Room_Assignments` table where `end_date` is NULL (indicating current occupancy) and there's a valid `patient_id`.\n",
      "\n",
      "4. **SQL Query Formation**:\n",
      "   - We need to join the `Rooms` table and `Room_Assignments` table on `room_id`.\n",
      "   - Filter entries in the `Room_Assignments` table where `end_date` is NULL, which signifies that the room is currently occupied.\n",
      "   - Select distinct `room_number` from the result to identify all currently occupied rooms.\n",
      "\n",
      "By examining the relationships and attributes, an appropriate SQL query can be constructed. Here's the SQL query and the explanation:\n",
      "\n",
      "```sql\n",
      "SELECT DISTINCT Rooms.room_number\n",
      "FROM Rooms\n",
      "JOIN Room_Assignments ON Rooms.room_id = Room_Assignments.room_id\n",
      "WHERE Room_Assignments.end_date IS NULL\n",
      "AND Room_Assignments.patient_id IS NOT NULL;\n",
      "```\n",
      "\n",
      "- **SQL Explanation**: \n",
      "  - The `SELECT DISTINCT Rooms.room_number` ensures that unique room numbers are retrieved.\n",
      "  - The `JOIN` on `Rooms` and `Room_Assignments` is established using `room_id`.\n",
      "  - The `WHERE` clause checks for `Room_Assignments.end_date IS NULL` to identify currently occupied rooms.\n",
      "  - `AND Room_Assignments.patient_id IS NOT NULL` ensures that the room's occupancy is related to a patient, thus confirming it is occupied.\n",
      "\n",
      "5. **Tables Used**: Rooms, Room_Assignments\n",
      "\n",
      "The SQL query meets the requirement for identifying currently occupied rooms based on the schema structure.\n"
     ]
    }
   ],
   "execution_count": 17
  },
  {
   "metadata": {
    "ExecuteTime": {
     "end_time": "2025-09-30T16:13:12.858875Z",
     "start_time": "2025-09-30T16:13:12.831860Z"
    }
   },
   "cell_type": "code",
   "source": "df_results",
   "id": "f002bedc9b1ec7c",
   "outputs": [
    {
     "data": {
      "text/plain": [
       "                                            question  \\\n",
       "0          List the names of patients in the system?   \n",
       "1  List the names of doctors with their specialties.   \n",
       "2              Show all available ambulance numbers.   \n",
       "3        Which medicines are currently out of stock?   \n",
       "4  Get the list of all room numbers that are curr...   \n",
       "\n",
       "                                        expected_sql  \\\n",
       "0        SELECT first_name, last_name FROM Patients;   \n",
       "1  SELECT first_name, last_name, specialty FROM D...   \n",
       "2  SELECT ambulance_number FROM Ambulance WHERE a...   \n",
       "3  SELECT name FROM Medicine WHERE stock_quantity...   \n",
       "4  SELECT room_number FROM Rooms WHERE status = '...   \n",
       "\n",
       "                                       generated_sql  exact_match  \\\n",
       "0        SELECT first_name, last_name FROM Patients;         True   \n",
       "1  SELECT first_name || ' ' || last_name AS docto...        False   \n",
       "2  SELECT ambulance_number FROM Ambulance WHERE L...        False   \n",
       "3  SELECT name FROM Medicine WHERE stock_quantity...         True   \n",
       "4  SELECT DISTINCT Rooms.room_number\\nFROM Rooms\\...        False   \n",
       "\n",
       "  llm_judged_equivalent  \n",
       "0                  None  \n",
       "1            Equivalent  \n",
       "2            Equivalent  \n",
       "3                  None  \n",
       "4        Not Equivalent  "
      ],
      "text/html": [
       "<div>\n",
       "<style scoped>\n",
       "    .dataframe tbody tr th:only-of-type {\n",
       "        vertical-align: middle;\n",
       "    }\n",
       "\n",
       "    .dataframe tbody tr th {\n",
       "        vertical-align: top;\n",
       "    }\n",
       "\n",
       "    .dataframe thead th {\n",
       "        text-align: right;\n",
       "    }\n",
       "</style>\n",
       "<table border=\"1\" class=\"dataframe\">\n",
       "  <thead>\n",
       "    <tr style=\"text-align: right;\">\n",
       "      <th></th>\n",
       "      <th>question</th>\n",
       "      <th>expected_sql</th>\n",
       "      <th>generated_sql</th>\n",
       "      <th>exact_match</th>\n",
       "      <th>llm_judged_equivalent</th>\n",
       "    </tr>\n",
       "  </thead>\n",
       "  <tbody>\n",
       "    <tr>\n",
       "      <th>0</th>\n",
       "      <td>List the names of patients in the system?</td>\n",
       "      <td>SELECT first_name, last_name FROM Patients;</td>\n",
       "      <td>SELECT first_name, last_name FROM Patients;</td>\n",
       "      <td>True</td>\n",
       "      <td>None</td>\n",
       "    </tr>\n",
       "    <tr>\n",
       "      <th>1</th>\n",
       "      <td>List the names of doctors with their specialties.</td>\n",
       "      <td>SELECT first_name, last_name, specialty FROM D...</td>\n",
       "      <td>SELECT first_name || ' ' || last_name AS docto...</td>\n",
       "      <td>False</td>\n",
       "      <td>Equivalent</td>\n",
       "    </tr>\n",
       "    <tr>\n",
       "      <th>2</th>\n",
       "      <td>Show all available ambulance numbers.</td>\n",
       "      <td>SELECT ambulance_number FROM Ambulance WHERE a...</td>\n",
       "      <td>SELECT ambulance_number FROM Ambulance WHERE L...</td>\n",
       "      <td>False</td>\n",
       "      <td>Equivalent</td>\n",
       "    </tr>\n",
       "    <tr>\n",
       "      <th>3</th>\n",
       "      <td>Which medicines are currently out of stock?</td>\n",
       "      <td>SELECT name FROM Medicine WHERE stock_quantity...</td>\n",
       "      <td>SELECT name FROM Medicine WHERE stock_quantity...</td>\n",
       "      <td>True</td>\n",
       "      <td>None</td>\n",
       "    </tr>\n",
       "    <tr>\n",
       "      <th>4</th>\n",
       "      <td>Get the list of all room numbers that are curr...</td>\n",
       "      <td>SELECT room_number FROM Rooms WHERE status = '...</td>\n",
       "      <td>SELECT DISTINCT Rooms.room_number\\nFROM Rooms\\...</td>\n",
       "      <td>False</td>\n",
       "      <td>Not Equivalent</td>\n",
       "    </tr>\n",
       "  </tbody>\n",
       "</table>\n",
       "</div>"
      ]
     },
     "execution_count": 18,
     "metadata": {},
     "output_type": "execute_result"
    }
   ],
   "execution_count": 18
  },
  {
   "metadata": {},
   "cell_type": "code",
   "source": "",
   "id": "d754b158c845c5ee",
   "outputs": [],
   "execution_count": null
  }
 ],
 "metadata": {
  "kernelspec": {
   "display_name": "Python 3",
   "language": "python",
   "name": "python3"
  },
  "language_info": {
   "codemirror_mode": {
    "name": "ipython",
    "version": 2
   },
   "file_extension": ".py",
   "mimetype": "text/x-python",
   "name": "python",
   "nbconvert_exporter": "python",
   "pygments_lexer": "ipython2",
   "version": "2.7.6"
  }
 },
 "nbformat": 4,
 "nbformat_minor": 5
}
